{
  "nbformat": 4,
  "nbformat_minor": 0,
  "metadata": {
    "colab": {
      "provenance": [],
      "authorship_tag": "ABX9TyPE13AboJP8lTuTCaQpkrI+",
      "include_colab_link": true
    },
    "kernelspec": {
      "name": "python3",
      "display_name": "Python 3"
    },
    "language_info": {
      "name": "python"
    }
  },
  "cells": [
    {
      "cell_type": "markdown",
      "metadata": {
        "id": "view-in-github",
        "colab_type": "text"
      },
      "source": [
        "<a href=\"https://colab.research.google.com/github/MaluGarcia18/predicciones-de-ventas-alimenticias/blob/main/predicciones_de_ventas_alimenticias.ipynb\" target=\"_parent\"><img src=\"https://colab.research.google.com/assets/colab-badge.svg\" alt=\"Open In Colab\"/></a>"
      ]
    },
    {
      "cell_type": "code",
      "execution_count": 3,
      "metadata": {
        "id": "uLIed9CTGj1W"
      },
      "outputs": [],
      "source": [
        "import pandas as pd\n"
      ]
    },
    {
      "cell_type": "code",
      "source": [
        "filename = '/content/sales_predictions.csv'\n",
        "\n",
        "sales_predictions = pd.read_csv(filename)\n",
        "sales_predictions.head(3) \n",
        "\n",
        "# Primero: con HEAD.() examinar y  conocer el archivo."
      ],
      "metadata": {
        "colab": {
          "base_uri": "https://localhost:8080/",
          "height": 259
        },
        "id": "sf21LPsLH0BG",
        "outputId": "b50c5b1b-058a-4a4e-a592-a08def2a643a"
      },
      "execution_count": 23,
      "outputs": [
        {
          "output_type": "execute_result",
          "data": {
            "text/plain": [
              "  Item_Identifier  Item_Weight Item_Fat_Content  Item_Visibility    Item_Type  \\\n",
              "0           FDA15         9.30          Low Fat         0.016047        Dairy   \n",
              "1           DRC01         5.92          Regular         0.019278  Soft Drinks   \n",
              "2           FDN15        17.50          Low Fat         0.016760         Meat   \n",
              "\n",
              "   Item_MRP Outlet_Identifier  Outlet_Establishment_Year Outlet_Size  \\\n",
              "0  249.8092            OUT049                       1999      Medium   \n",
              "1   48.2692            OUT018                       2009      Medium   \n",
              "2  141.6180            OUT049                       1999      Medium   \n",
              "\n",
              "  Outlet_Location_Type        Outlet_Type  Item_Outlet_Sales  \n",
              "0               Tier 1  Supermarket Type1          3735.1380  \n",
              "1               Tier 3  Supermarket Type2           443.4228  \n",
              "2               Tier 1  Supermarket Type1          2097.2700  "
            ],
            "text/html": [
              "\n",
              "  <div id=\"df-07b41ea6-b6ad-4cf9-a9cb-3e78399080c1\">\n",
              "    <div class=\"colab-df-container\">\n",
              "      <div>\n",
              "<style scoped>\n",
              "    .dataframe tbody tr th:only-of-type {\n",
              "        vertical-align: middle;\n",
              "    }\n",
              "\n",
              "    .dataframe tbody tr th {\n",
              "        vertical-align: top;\n",
              "    }\n",
              "\n",
              "    .dataframe thead th {\n",
              "        text-align: right;\n",
              "    }\n",
              "</style>\n",
              "<table border=\"1\" class=\"dataframe\">\n",
              "  <thead>\n",
              "    <tr style=\"text-align: right;\">\n",
              "      <th></th>\n",
              "      <th>Item_Identifier</th>\n",
              "      <th>Item_Weight</th>\n",
              "      <th>Item_Fat_Content</th>\n",
              "      <th>Item_Visibility</th>\n",
              "      <th>Item_Type</th>\n",
              "      <th>Item_MRP</th>\n",
              "      <th>Outlet_Identifier</th>\n",
              "      <th>Outlet_Establishment_Year</th>\n",
              "      <th>Outlet_Size</th>\n",
              "      <th>Outlet_Location_Type</th>\n",
              "      <th>Outlet_Type</th>\n",
              "      <th>Item_Outlet_Sales</th>\n",
              "    </tr>\n",
              "  </thead>\n",
              "  <tbody>\n",
              "    <tr>\n",
              "      <th>0</th>\n",
              "      <td>FDA15</td>\n",
              "      <td>9.30</td>\n",
              "      <td>Low Fat</td>\n",
              "      <td>0.016047</td>\n",
              "      <td>Dairy</td>\n",
              "      <td>249.8092</td>\n",
              "      <td>OUT049</td>\n",
              "      <td>1999</td>\n",
              "      <td>Medium</td>\n",
              "      <td>Tier 1</td>\n",
              "      <td>Supermarket Type1</td>\n",
              "      <td>3735.1380</td>\n",
              "    </tr>\n",
              "    <tr>\n",
              "      <th>1</th>\n",
              "      <td>DRC01</td>\n",
              "      <td>5.92</td>\n",
              "      <td>Regular</td>\n",
              "      <td>0.019278</td>\n",
              "      <td>Soft Drinks</td>\n",
              "      <td>48.2692</td>\n",
              "      <td>OUT018</td>\n",
              "      <td>2009</td>\n",
              "      <td>Medium</td>\n",
              "      <td>Tier 3</td>\n",
              "      <td>Supermarket Type2</td>\n",
              "      <td>443.4228</td>\n",
              "    </tr>\n",
              "    <tr>\n",
              "      <th>2</th>\n",
              "      <td>FDN15</td>\n",
              "      <td>17.50</td>\n",
              "      <td>Low Fat</td>\n",
              "      <td>0.016760</td>\n",
              "      <td>Meat</td>\n",
              "      <td>141.6180</td>\n",
              "      <td>OUT049</td>\n",
              "      <td>1999</td>\n",
              "      <td>Medium</td>\n",
              "      <td>Tier 1</td>\n",
              "      <td>Supermarket Type1</td>\n",
              "      <td>2097.2700</td>\n",
              "    </tr>\n",
              "  </tbody>\n",
              "</table>\n",
              "</div>\n",
              "      <button class=\"colab-df-convert\" onclick=\"convertToInteractive('df-07b41ea6-b6ad-4cf9-a9cb-3e78399080c1')\"\n",
              "              title=\"Convert this dataframe to an interactive table.\"\n",
              "              style=\"display:none;\">\n",
              "        \n",
              "  <svg xmlns=\"http://www.w3.org/2000/svg\" height=\"24px\"viewBox=\"0 0 24 24\"\n",
              "       width=\"24px\">\n",
              "    <path d=\"M0 0h24v24H0V0z\" fill=\"none\"/>\n",
              "    <path d=\"M18.56 5.44l.94 2.06.94-2.06 2.06-.94-2.06-.94-.94-2.06-.94 2.06-2.06.94zm-11 1L8.5 8.5l.94-2.06 2.06-.94-2.06-.94L8.5 2.5l-.94 2.06-2.06.94zm10 10l.94 2.06.94-2.06 2.06-.94-2.06-.94-.94-2.06-.94 2.06-2.06.94z\"/><path d=\"M17.41 7.96l-1.37-1.37c-.4-.4-.92-.59-1.43-.59-.52 0-1.04.2-1.43.59L10.3 9.45l-7.72 7.72c-.78.78-.78 2.05 0 2.83L4 21.41c.39.39.9.59 1.41.59.51 0 1.02-.2 1.41-.59l7.78-7.78 2.81-2.81c.8-.78.8-2.07 0-2.86zM5.41 20L4 18.59l7.72-7.72 1.47 1.35L5.41 20z\"/>\n",
              "  </svg>\n",
              "      </button>\n",
              "      \n",
              "  <style>\n",
              "    .colab-df-container {\n",
              "      display:flex;\n",
              "      flex-wrap:wrap;\n",
              "      gap: 12px;\n",
              "    }\n",
              "\n",
              "    .colab-df-convert {\n",
              "      background-color: #E8F0FE;\n",
              "      border: none;\n",
              "      border-radius: 50%;\n",
              "      cursor: pointer;\n",
              "      display: none;\n",
              "      fill: #1967D2;\n",
              "      height: 32px;\n",
              "      padding: 0 0 0 0;\n",
              "      width: 32px;\n",
              "    }\n",
              "\n",
              "    .colab-df-convert:hover {\n",
              "      background-color: #E2EBFA;\n",
              "      box-shadow: 0px 1px 2px rgba(60, 64, 67, 0.3), 0px 1px 3px 1px rgba(60, 64, 67, 0.15);\n",
              "      fill: #174EA6;\n",
              "    }\n",
              "\n",
              "    [theme=dark] .colab-df-convert {\n",
              "      background-color: #3B4455;\n",
              "      fill: #D2E3FC;\n",
              "    }\n",
              "\n",
              "    [theme=dark] .colab-df-convert:hover {\n",
              "      background-color: #434B5C;\n",
              "      box-shadow: 0px 1px 3px 1px rgba(0, 0, 0, 0.15);\n",
              "      filter: drop-shadow(0px 1px 2px rgba(0, 0, 0, 0.3));\n",
              "      fill: #FFFFFF;\n",
              "    }\n",
              "  </style>\n",
              "\n",
              "      <script>\n",
              "        const buttonEl =\n",
              "          document.querySelector('#df-07b41ea6-b6ad-4cf9-a9cb-3e78399080c1 button.colab-df-convert');\n",
              "        buttonEl.style.display =\n",
              "          google.colab.kernel.accessAllowed ? 'block' : 'none';\n",
              "\n",
              "        async function convertToInteractive(key) {\n",
              "          const element = document.querySelector('#df-07b41ea6-b6ad-4cf9-a9cb-3e78399080c1');\n",
              "          const dataTable =\n",
              "            await google.colab.kernel.invokeFunction('convertToInteractive',\n",
              "                                                     [key], {});\n",
              "          if (!dataTable) return;\n",
              "\n",
              "          const docLinkHtml = 'Like what you see? Visit the ' +\n",
              "            '<a target=\"_blank\" href=https://colab.research.google.com/notebooks/data_table.ipynb>data table notebook</a>'\n",
              "            + ' to learn more about interactive tables.';\n",
              "          element.innerHTML = '';\n",
              "          dataTable['output_type'] = 'display_data';\n",
              "          await google.colab.output.renderOutput(dataTable, element);\n",
              "          const docLink = document.createElement('div');\n",
              "          docLink.innerHTML = docLinkHtml;\n",
              "          element.appendChild(docLink);\n",
              "        }\n",
              "      </script>\n",
              "    </div>\n",
              "  </div>\n",
              "  "
            ]
          },
          "metadata": {},
          "execution_count": 23
        }
      ]
    },
    {
      "cell_type": "code",
      "source": [
        "# Segundo: Revisar entradas duplicadas\n",
        "\n",
        "#sales_predictions.duplicated()\n",
        "sales_predictions.duplicated().sum()"
      ],
      "metadata": {
        "id": "lSlJpnKM-cwX",
        "outputId": "33f22533-b241-4bc3-8795-962f777e35c7",
        "colab": {
          "base_uri": "https://localhost:8080/"
        }
      },
      "execution_count": 24,
      "outputs": [
        {
          "output_type": "execute_result",
          "data": {
            "text/plain": [
              "0"
            ]
          },
          "metadata": {},
          "execution_count": 24
        }
      ]
    },
    {
      "cell_type": "markdown",
      "source": [
        "No me arroja valores duplicados, por consiguiente, no se requiere de la eliminación de dichos datos:"
      ],
      "metadata": {
        "id": "fLctgk72--vd"
      }
    },
    {
      "cell_type": "markdown",
      "source": [
        "Tercero: Remover columnas innecesarias\n",
        "\n",
        "Para este punto se eliminará la columna que señala el año en que estableció la tienda, ya que no es un dato que influya directamente en la predición de las ventas.   \n",
        "\n",
        "Lo mismo con el tipo de área donde se encuentra la tienda, el tamaño de la tienda \n",
        "\n",
        "Columnas a eliminar: Outlet_Establishment_Year, Outlet_Size y Outlet_Location_Type."
      ],
      "metadata": {
        "id": "mZRYskJVCZaj"
      }
    },
    {
      "cell_type": "code",
      "source": [
        "# Tercero: Remover columnas innecesarias\n",
        "\n",
        "sales_predictions = sales_predictions.drop(columns=['Outlet_Establishment_Year', 'Outlet_Size', 'Outlet_Location_Type'])\n",
        "sales_predictions.head()\n"
      ],
      "metadata": {
        "id": "JWVZ2OnWA5kK"
      },
      "execution_count": null,
      "outputs": []
    },
    {
      "cell_type": "code",
      "source": [
        "# 4. Usar el método .nunique() \n",
        "\n",
        "sales_predictions.nunique()"
      ],
      "metadata": {
        "id": "GkIPu8UfDb0_"
      },
      "execution_count": null,
      "outputs": []
    },
    {
      "cell_type": "markdown",
      "source": [
        "Revisar que tipo de registros estan en las columnas de tipo categoricas para identificar faltas de ortografía, abreviaturas o errores tipográficos. Usando value_counts()"
      ],
      "metadata": {
        "id": "eUv34plWKukp"
      }
    },
    {
      "cell_type": "code",
      "source": [
        "# 5. Identificación de errores tipográficos en columnas categoricas.\n",
        "\n",
        "sales_predictions['Outlet_Type'].value_counts()"
      ],
      "metadata": {
        "id": "RXs9f2EOJoWU"
      },
      "execution_count": null,
      "outputs": []
    },
    {
      "cell_type": "code",
      "source": [
        "sales_predictions['Item_Fat_Content'].value_counts()"
      ],
      "metadata": {
        "id": "uavn8fwTKmH5",
        "outputId": "731126e2-d5f0-4eaf-a498-d2bdef19c069",
        "colab": {
          "base_uri": "https://localhost:8080/"
        }
      },
      "execution_count": 28,
      "outputs": [
        {
          "output_type": "execute_result",
          "data": {
            "text/plain": [
              "Low Fat    5089\n",
              "Regular    2889\n",
              "LF          316\n",
              "reg         117\n",
              "low fat     112\n",
              "Name: Item_Fat_Content, dtype: int64"
            ]
          },
          "metadata": {},
          "execution_count": 28
        }
      ]
    },
    {
      "cell_type": "code",
      "source": [
        "sales_predictions['Item_Type'].value_counts()"
      ],
      "metadata": {
        "id": "2wXr8VmYLd0U"
      },
      "execution_count": null,
      "outputs": []
    },
    {
      "cell_type": "code",
      "source": [
        "# 6. Identificar valores NaN.\n",
        "\n",
        "sales_predictions.isna().sum()"
      ],
      "metadata": {
        "id": "fDTv2NpiIL5M",
        "outputId": "c0eab640-e919-4028-fbc9-28f3216bfd93",
        "colab": {
          "base_uri": "https://localhost:8080/"
        }
      },
      "execution_count": 30,
      "outputs": [
        {
          "output_type": "execute_result",
          "data": {
            "text/plain": [
              "Item_Identifier         0\n",
              "Item_Weight          1463\n",
              "Item_Fat_Content        0\n",
              "Item_Visibility         0\n",
              "Item_Type               0\n",
              "Item_MRP                0\n",
              "Outlet_Identifier       0\n",
              "Outlet_Type             0\n",
              "Item_Outlet_Sales       0\n",
              "dtype: int64"
            ]
          },
          "metadata": {},
          "execution_count": 30
        }
      ]
    },
    {
      "cell_type": "code",
      "source": [
        "# Aca se busca hacer la relación de total de registros por columnas vs la cantidad de valores NaN.\n",
        "\n",
        "sales_predictions['Item_Weight'].count()\n"
      ],
      "metadata": {
        "id": "AERFvkgR3Ldz",
        "outputId": "4a2014b2-b66a-4e0c-ff1b-007aaf726c98",
        "colab": {
          "base_uri": "https://localhost:8080/"
        }
      },
      "execution_count": 32,
      "outputs": [
        {
          "output_type": "execute_result",
          "data": {
            "text/plain": [
              "7060"
            ]
          },
          "metadata": {},
          "execution_count": 32
        }
      ]
    },
    {
      "cell_type": "markdown",
      "source": [
        "Imputar valores faltantes:\n",
        "\n",
        "1. No hacer nada.\n",
        "2. Imputación utilizando valores (media/mediana).\n",
        "3. Imputación usando valores (más frecuentes) o cero/constante.\n",
        "4. Imputación usando K-NN.\n",
        "5. Imputación usando imputación multivariada por ecucación encadenada (MICE).\n",
        "6. Imputación usando Deep Learning (Datawig)"
      ],
      "metadata": {
        "id": "qF_93CBpMrBC"
      }
    },
    {
      "cell_type": "code",
      "source": [
        "# Considero que para la columna Item_Weight podré usar la imputación MICE.\n",
        "\n",
        "#import sys\n",
        "#from impyute.imputation.cs import mice\n",
        "# NO ME DIO EL RESULTADO ESPERADO, PENDIENTE DE REVISAR"
      ],
      "metadata": {
        "id": "-J00EsECOrl1"
      },
      "execution_count": 35,
      "outputs": []
    },
    {
      "cell_type": "markdown",
      "source": [
        "Obtener la media de las columnas con datos númericos:"
      ],
      "metadata": {
        "id": "pqEsbrVgPr7d"
      }
    },
    {
      "cell_type": "code",
      "source": [
        "# Las columnas con datos númericos son:  Item_Weight, Item_Visibility, Item_MRP, Item_Outlet_Sales\n",
        "## Primero identifico las columnas. \n",
        "sales_predictions.info()\n"
      ],
      "metadata": {
        "id": "I6lvoyxO5UxS",
        "outputId": "dc4c2c0c-8144-49e8-9c1b-d95dc13c7001",
        "colab": {
          "base_uri": "https://localhost:8080/"
        }
      },
      "execution_count": 36,
      "outputs": [
        {
          "output_type": "stream",
          "name": "stdout",
          "text": [
            "<class 'pandas.core.frame.DataFrame'>\n",
            "RangeIndex: 8523 entries, 0 to 8522\n",
            "Data columns (total 9 columns):\n",
            " #   Column             Non-Null Count  Dtype  \n",
            "---  ------             --------------  -----  \n",
            " 0   Item_Identifier    8523 non-null   object \n",
            " 1   Item_Weight        7060 non-null   float64\n",
            " 2   Item_Fat_Content   8523 non-null   object \n",
            " 3   Item_Visibility    8523 non-null   float64\n",
            " 4   Item_Type          8523 non-null   object \n",
            " 5   Item_MRP           8523 non-null   float64\n",
            " 6   Outlet_Identifier  8523 non-null   object \n",
            " 7   Outlet_Type        8523 non-null   object \n",
            " 8   Item_Outlet_Sales  8523 non-null   float64\n",
            "dtypes: float64(4), object(5)\n",
            "memory usage: 599.4+ KB\n"
          ]
        }
      ]
    },
    {
      "cell_type": "markdown",
      "source": [
        "Item Weight: # Obtener mínimo, máximo y media para las columnas númericas."
      ],
      "metadata": {
        "id": "oGn7UEL5TuLS"
      }
    },
    {
      "cell_type": "code",
      "source": [
        "sales_predictions['Item_Weight'].min()\n"
      ],
      "metadata": {
        "colab": {
          "base_uri": "https://localhost:8080/"
        },
        "id": "AXnJpLtMRe2H",
        "outputId": "a156b88c-fd66-433b-c97e-764d9e0cc774"
      },
      "execution_count": 39,
      "outputs": [
        {
          "output_type": "execute_result",
          "data": {
            "text/plain": [
              "4.555"
            ]
          },
          "metadata": {},
          "execution_count": 39
        }
      ]
    },
    {
      "cell_type": "code",
      "source": [
        "sales_predictions['Item_Weight'].max()"
      ],
      "metadata": {
        "id": "zTgOcaCWTRPO",
        "outputId": "9e3db4cc-b342-45f1-b800-6fbd357177ab",
        "colab": {
          "base_uri": "https://localhost:8080/"
        }
      },
      "execution_count": 45,
      "outputs": [
        {
          "output_type": "execute_result",
          "data": {
            "text/plain": [
              "21.35"
            ]
          },
          "metadata": {},
          "execution_count": 45
        }
      ]
    },
    {
      "cell_type": "code",
      "source": [
        "sales_predictions['Item_Weight'].mean()"
      ],
      "metadata": {
        "id": "Q9br38DMTT4Z",
        "outputId": "c0560604-4778-46f0-efd1-7564ee4553ef",
        "colab": {
          "base_uri": "https://localhost:8080/"
        }
      },
      "execution_count": 44,
      "outputs": [
        {
          "output_type": "execute_result",
          "data": {
            "text/plain": [
              "12.857645184135976"
            ]
          },
          "metadata": {},
          "execution_count": 44
        }
      ]
    },
    {
      "cell_type": "markdown",
      "source": [
        "Item Visibility: # Obtener mínimo, máximo y media para las columnas númericas."
      ],
      "metadata": {
        "id": "NTAkO1ccT-Ue"
      }
    },
    {
      "cell_type": "code",
      "source": [
        "sales_predictions['Item_Visibility'].min()"
      ],
      "metadata": {
        "id": "t4_4FPORSkFu",
        "outputId": "0fc407a7-725d-4748-f983-568641666a07",
        "colab": {
          "base_uri": "https://localhost:8080/"
        }
      },
      "execution_count": 43,
      "outputs": [
        {
          "output_type": "execute_result",
          "data": {
            "text/plain": [
              "0.328390948"
            ]
          },
          "metadata": {},
          "execution_count": 43
        }
      ]
    },
    {
      "cell_type": "code",
      "source": [
        "sales_predictions['Item_Visibility'].max()"
      ],
      "metadata": {
        "id": "OFU2QUVyTbT6",
        "outputId": "b220b57a-1877-4dc5-8e5d-4bd02e7e8199",
        "colab": {
          "base_uri": "https://localhost:8080/"
        }
      },
      "execution_count": 46,
      "outputs": [
        {
          "output_type": "execute_result",
          "data": {
            "text/plain": [
              "0.328390948"
            ]
          },
          "metadata": {},
          "execution_count": 46
        }
      ]
    },
    {
      "cell_type": "code",
      "source": [
        "sales_predictions['Item_Visibility'].mean()"
      ],
      "metadata": {
        "id": "gqHdc1QMTYsU",
        "outputId": "c3e07762-c42a-448d-bf86-518b420bc498",
        "colab": {
          "base_uri": "https://localhost:8080/"
        }
      },
      "execution_count": 47,
      "outputs": [
        {
          "output_type": "execute_result",
          "data": {
            "text/plain": [
              "0.06613202877895108"
            ]
          },
          "metadata": {},
          "execution_count": 47
        }
      ]
    },
    {
      "cell_type": "markdown",
      "source": [
        "Item MRP: # Obtener mínimo, máximo y media para las columnas númericas."
      ],
      "metadata": {
        "id": "MpnaqbLmUGDy"
      }
    },
    {
      "cell_type": "code",
      "source": [
        "sales_predictions['Item_MRP'].min()"
      ],
      "metadata": {
        "id": "AZa8jmggSk5_",
        "outputId": "2f6f53e2-b375-4acb-cdf6-a1d8c1e2e8b3",
        "colab": {
          "base_uri": "https://localhost:8080/"
        }
      },
      "execution_count": 41,
      "outputs": [
        {
          "output_type": "execute_result",
          "data": {
            "text/plain": [
              "31.29"
            ]
          },
          "metadata": {},
          "execution_count": 41
        }
      ]
    },
    {
      "cell_type": "code",
      "source": [
        "sales_predictions['Item_MRP'].max()"
      ],
      "metadata": {
        "id": "CxFuqs4QTkaJ",
        "outputId": "06dd9123-4c05-4d2d-93f5-a0ee0658fe81",
        "colab": {
          "base_uri": "https://localhost:8080/"
        }
      },
      "execution_count": 48,
      "outputs": [
        {
          "output_type": "execute_result",
          "data": {
            "text/plain": [
              "266.8884"
            ]
          },
          "metadata": {},
          "execution_count": 48
        }
      ]
    },
    {
      "cell_type": "code",
      "source": [
        "sales_predictions['Item_MRP'].mean()"
      ],
      "metadata": {
        "id": "_9ofeFvmTj6u",
        "outputId": "8819b76b-7286-471a-8877-6e1c42fe552b",
        "colab": {
          "base_uri": "https://localhost:8080/"
        }
      },
      "execution_count": 49,
      "outputs": [
        {
          "output_type": "execute_result",
          "data": {
            "text/plain": [
              "140.9927819781767"
            ]
          },
          "metadata": {},
          "execution_count": 49
        }
      ]
    },
    {
      "cell_type": "markdown",
      "source": [
        "Item Outlet Sales: # Obtener mínimo, máximo y media para las columnas númericas."
      ],
      "metadata": {
        "id": "YlHkqmfPUJC_"
      }
    },
    {
      "cell_type": "code",
      "source": [
        "sales_predictions['Item_Outlet_Sales'].min()"
      ],
      "metadata": {
        "id": "Ncd8WhFbSkjT",
        "outputId": "320ad250-93b9-4f9f-b8e0-40e954985877",
        "colab": {
          "base_uri": "https://localhost:8080/"
        }
      },
      "execution_count": 42,
      "outputs": [
        {
          "output_type": "execute_result",
          "data": {
            "text/plain": [
              "33.29"
            ]
          },
          "metadata": {},
          "execution_count": 42
        }
      ]
    },
    {
      "cell_type": "code",
      "source": [
        "sales_predictions['Item_Outlet_Sales'].max()"
      ],
      "metadata": {
        "id": "hqJKU5zlSbKV",
        "outputId": "24d19697-384e-4a63-b797-2bae08a2235b",
        "colab": {
          "base_uri": "https://localhost:8080/"
        }
      },
      "execution_count": 50,
      "outputs": [
        {
          "output_type": "execute_result",
          "data": {
            "text/plain": [
              "13086.9648"
            ]
          },
          "metadata": {},
          "execution_count": 50
        }
      ]
    },
    {
      "cell_type": "code",
      "source": [
        "sales_predictions['Item_Outlet_Sales'].mean()"
      ],
      "metadata": {
        "id": "xTTkdalzTpSD",
        "outputId": "c13a9efd-65f8-4336-c9a2-18f6ac676da5",
        "colab": {
          "base_uri": "https://localhost:8080/"
        }
      },
      "execution_count": 51,
      "outputs": [
        {
          "output_type": "execute_result",
          "data": {
            "text/plain": [
              "2181.288913575032"
            ]
          },
          "metadata": {},
          "execution_count": 51
        }
      ]
    }
  ]
}